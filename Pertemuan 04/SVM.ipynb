{
 "cells": [
  {
   "cell_type": "markdown",
   "metadata": {},
   "source": [
    "## **Jobsheet 4**\n",
    "## **SVM**\n",
    "\n",
    "----\n",
    "\n",
    "### **Apa itu SVM**\n",
    "Support Vector Machines (SVM) adalah salah satu metode pembelajaran terbimbing (supervised learning) pada pembelejaran mesin yang dikenal dengan kemampuannya yang baik dan fleksibel untuk menyelesaikan kasus klasifikasi dan regresi. Penerapan SVM dilakukan melalui pembelajaran sebuah model yangs sederhana yang berfungsi untuk mengembangkan model yang generatif dalam rangka menentukan label dari titik atau data baru secara probabilistik.<p>\n",
    "Tujuan dari algoritma SVM adalah untuk menemukan hyperplane dalam ruang berdimensi N (N — jumlah fitur) yang mengklasifikasikan titik data secara jelas.<p>\n",
    "\n",
    "<img src = \"img/svm_01.PNG\"><p>\n",
    "<img src = \"img/svm_02.PNG\"><p>\n",
    "\n",
    "Untuk memisahkan kedua kelas titik data tersebut, ada banyak kemungkinan hyperplane yang dapat dipilih. Tujuan kita adalah mencari bidang yang mempunyai margin maksimum, yaitu jarak maksimum antara titik data kedua kelas. Memaksimalkan jarak margin memberikan beberapa penguatan sehingga titik data di masa depan dapat diklasifikasikan dengan lebih percaya diri.<p>\n",
    "\n",
    "### **Hyperplanes dan Support Vector**\n",
    "\n",
    "<img src = \"img/svm_03.PNG\"><p>\n",
    "\n",
    "Hyperplanes adalah batasan keputusan yang membantu mengklasifikasikan titik data. Titik data yang berada di kedua sisi hyperplane dapat dikaitkan ke kelas yang berbeda. Selain itu, dimensi hyperplane bergantung pada jumlah fitur. Jika jumlah fitur masukan adalah 2, maka hyperplane hanyalah sebuah garis. Jika jumlah fitur masukan adalah 3, maka bidang hiper menjadi bidang dua dimensi. Sulit membayangkan bila jumlah fitur melebihi 3.<p>\n",
    "\n",
    "<img src = \"img/svm_04.PNG\"><p>\n",
    "\n",
    "\n",
    "Support Vector adalah titik data yang lebih dekat dengan hyperplane dan mempengaruhi posisi serta orientasi hyperplane. Dengan menggunakan Support Vector ini, garis margin pengklasifikasi dapat dimaksimalkan. Menghapus support vector akan mengubah posisi hyperplane. Inilah poin-poin yang dipakai untuk membangun SVM.\n",
    "\n",
    "\n",
    "\n"
   ]
  }
 ],
 "metadata": {
  "language_info": {
   "name": "python"
  },
  "orig_nbformat": 4
 },
 "nbformat": 4,
 "nbformat_minor": 2
}
