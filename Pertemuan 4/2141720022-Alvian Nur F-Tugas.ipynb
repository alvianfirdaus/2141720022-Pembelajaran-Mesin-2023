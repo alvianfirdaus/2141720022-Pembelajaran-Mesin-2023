{
 "cells": [
  {
   "cell_type": "markdown",
   "metadata": {},
   "source": [
    "## **TUGAS PRAKTIKUM**\n",
    "### **Tugas Praktikum: Klasifiksi**\n",
    "\n",
    "----\n",
    "\n",
    ">### Data Mahasiswa\n",
    "><p>Nama : Alvian Nur Firdaus<p>\n",
    ">Kelas : 3H<p>\n",
    ">Nim : 2141720022<p>\n",
    ">Prodi : D-IV Teknik Inormatika<p>\n",
    ">Jurusan : Teknologi Inormasi<p>\n",
    ">\n",
    "\n",
    "----\n",
    "\n",
    "### **Tugas:**\n",
    "[voice.csv (klik)](/Pertemuan%204/data/voice.csv)<p>\n",
    "⬆Download Dataset Terlebih Dahulu ⬆<p>\n",
    "\n",
    "1. Buatlah model klasifikasi dengan menggunakan SVM untuk data suara, voice.csv. \n",
    "2. Buatlah model klasfikasi Multinomial Naive Bayes dengan ketentuan,\n",
    "    - Menggunakan data spam.csv\n",
    "    - Fitur CountVectorizer dengan mengaktifkan stop_words\n",
    "    - Evaluasi hasilnya\n",
    "3. Buatlah model klasfikasi Multinomial Naive Bayes dengan ketentuan,\n",
    "    - Menggunakan data spam.csv\n",
    "    - Fitur TF-IDF dengan mengaktifkan stop_words\n",
    "    - Evaluasi hasilnya dan bandingkan dengan hasil pada Tugas no 2.\n",
    "    - Berikan kesimpulan fitur mana yang terbaik pada kasus data spam.csv\n",
    "\n",
    "-----\n",
    "\n",
    "### **Jawaban**"
   ]
  },
  {
   "cell_type": "markdown",
   "metadata": {},
   "source": [
    "---- SEGERA ----"
   ]
  },
  {
   "cell_type": "code",
   "execution_count": null,
   "metadata": {
    "vscode": {
     "languageId": "plaintext"
    }
   },
   "outputs": [],
   "source": []
  }
 ],
 "metadata": {
  "language_info": {
   "name": "python"
  },
  "orig_nbformat": 4
 },
 "nbformat": 4,
 "nbformat_minor": 2
}
