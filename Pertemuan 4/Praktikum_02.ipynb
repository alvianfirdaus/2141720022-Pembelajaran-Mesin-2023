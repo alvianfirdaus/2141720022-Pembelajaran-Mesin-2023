{
 "cells": [
  {
   "cell_type": "markdown",
   "metadata": {},
   "source": [
    "## **Jobsheet 4**\n",
    "## **Klasifikasi**\n",
    "\n",
    "----\n",
    "\n",
    "### **Praktikum 2**\n",
    "Klasifikasi SVM Pada Data Citra<p>\n",
    "\n",
    "dataset yang digunakan adalah Labeled Faces in the Wild dataset (sebuah dataset yang berisi ribuan wajah publik figur).\n",
    "Link dataset: https://www.kaggle.com/datasets/jessicali9530/lfw-dataset\n"
   ]
  },
  {
   "cell_type": "code",
   "execution_count": 1,
   "metadata": {},
   "outputs": [
    {
     "name": "stdout",
     "output_type": "stream",
     "text": [
      "['Ariel Sharon' 'Colin Powell' 'Donald Rumsfeld' 'George W Bush'\n",
      " 'Gerhard Schroeder' 'Hugo Chavez' 'Junichiro Koizumi' 'Tony Blair']\n",
      "8\n",
      "(1348, 62, 47)\n"
     ]
    }
   ],
   "source": [
    "from sklearn.datasets import fetch_lfw_people\n",
    "faces = fetch_lfw_people(min_faces_per_person=60)\n",
    "print(faces.target_names)\n",
    "print(len(faces.target_names))\n",
    "print(faces.images.shape)"
   ]
  },
  {
   "cell_type": "code",
   "execution_count": 3,
   "metadata": {},
   "outputs": [
    {
     "ename": "NameError",
     "evalue": "name 'plt' is not defined",
     "output_type": "error",
     "traceback": [
      "\u001b[1;31m---------------------------------------------------------------------------\u001b[0m",
      "\u001b[1;31mNameError\u001b[0m                                 Traceback (most recent call last)",
      "\u001b[1;32me:\\D4 Teknik Informatika\\Akademik\\Semester 5\\Pembelajaran Mesin - TI 3H-20231-1\\2141720022-Pembelajaran-Mesin-2023\\Pertemuan 4\\Praktikum_02.ipynb Cell 3\u001b[0m line \u001b[0;36m3\n\u001b[0;32m      <a href='vscode-notebook-cell:/e%3A/D4%20Teknik%20Informatika/Akademik/Semester%205/Pembelajaran%20Mesin%20-%20TI%203H-20231-1/2141720022-Pembelajaran-Mesin-2023/Pertemuan%204/Praktikum_02.ipynb#W4sZmlsZQ%3D%3D?line=0'>1</a>\u001b[0m \u001b[39m# contoh wajah yang digunakan\u001b[39;00m\n\u001b[1;32m----> <a href='vscode-notebook-cell:/e%3A/D4%20Teknik%20Informatika/Akademik/Semester%205/Pembelajaran%20Mesin%20-%20TI%203H-20231-1/2141720022-Pembelajaran-Mesin-2023/Pertemuan%204/Praktikum_02.ipynb#W4sZmlsZQ%3D%3D?line=2'>3</a>\u001b[0m fig, ax \u001b[39m=\u001b[39m plt\u001b[39m.\u001b[39msubplots(\u001b[39m3\u001b[39m, \u001b[39m5\u001b[39m)\n\u001b[0;32m      <a href='vscode-notebook-cell:/e%3A/D4%20Teknik%20Informatika/Akademik/Semester%205/Pembelajaran%20Mesin%20-%20TI%203H-20231-1/2141720022-Pembelajaran-Mesin-2023/Pertemuan%204/Praktikum_02.ipynb#W4sZmlsZQ%3D%3D?line=3'>4</a>\u001b[0m \u001b[39mfor\u001b[39;00m i, axi \u001b[39min\u001b[39;00m \u001b[39menumerate\u001b[39m(ax\u001b[39m.\u001b[39mflat):\n\u001b[0;32m      <a href='vscode-notebook-cell:/e%3A/D4%20Teknik%20Informatika/Akademik/Semester%205/Pembelajaran%20Mesin%20-%20TI%203H-20231-1/2141720022-Pembelajaran-Mesin-2023/Pertemuan%204/Praktikum_02.ipynb#W4sZmlsZQ%3D%3D?line=4'>5</a>\u001b[0m     axi\u001b[39m.\u001b[39mimshow(faces\u001b[39m.\u001b[39mimages[i], cmap\u001b[39m=\u001b[39m\u001b[39m'\u001b[39m\u001b[39mbone\u001b[39m\u001b[39m'\u001b[39m)\n",
      "\u001b[1;31mNameError\u001b[0m: name 'plt' is not defined"
     ]
    }
   ],
   "source": [
    "# contoh wajah yang digunakan\n",
    "\n",
    "fig, ax = plt.subplots(3, 5)\n",
    "for i, axi in enumerate(ax.flat):\n",
    "    axi.imshow(faces.images[i], cmap='bone')\n",
    "    axi.set(xticks=[], yticks=[],\n",
    "            xlabel=faces.target_names[faces.target[i]])"
   ]
  },
  {
   "cell_type": "code",
   "execution_count": 4,
   "metadata": {},
   "outputs": [],
   "source": [
    "from sklearn.svm import SVC\n",
    "from sklearn.decomposition import PCA as RandomizedPCA\n",
    "from sklearn.pipeline import make_pipeline\n",
    "\n",
    "pca = RandomizedPCA(n_components=150, whiten=True, random_state=42)\n",
    "svc = SVC(kernel='rbf', class_weight='balanced')\n",
    "model = make_pipeline(pca, svc)"
   ]
  },
  {
   "cell_type": "code",
   "execution_count": 5,
   "metadata": {},
   "outputs": [],
   "source": [
    "# pemisahan data training dan data testing\n",
    "\n",
    "from sklearn.model_selection import train_test_split\n",
    "Xtrain, Xtest, ytrain, ytest = train_test_split(faces.data, faces.target,\n",
    "                                                random_state=42)"
   ]
  },
  {
   "cell_type": "code",
   "execution_count": 6,
   "metadata": {},
   "outputs": [
    {
     "name": "stdout",
     "output_type": "stream",
     "text": [
      "CPU times: total: 1min 35s\n",
      "Wall time: 52.4 s\n",
      "{'svc__C': 5, 'svc__gamma': 0.001}\n",
      "0.828893332683022\n"
     ]
    }
   ],
   "source": [
    "from sklearn.model_selection import GridSearchCV\n",
    "param_grid = {'svc__C': [1, 5, 10, 50],\n",
    "              'svc__gamma': [0.0001, 0.0005, 0.001, 0.005]}\n",
    "grid = GridSearchCV(model, param_grid)\n",
    "\n",
    "%time grid.fit(Xtrain, ytrain)\n",
    "print(grid.best_params_)\n",
    "print(grid.best_score_)"
   ]
  },
  {
   "cell_type": "code",
   "execution_count": 7,
   "metadata": {},
   "outputs": [
    {
     "ename": "SyntaxError",
     "evalue": "invalid decimal literal (4049358842.py, line 1)",
     "output_type": "error",
     "traceback": [
      "\u001b[1;36m  Cell \u001b[1;32mIn[7], line 1\u001b[1;36m\u001b[0m\n\u001b[1;33m    CPU times: user 1min 6s, sys: 1.29 s, total: 1min 7s\u001b[0m\n\u001b[1;37m                    ^\u001b[0m\n\u001b[1;31mSyntaxError\u001b[0m\u001b[1;31m:\u001b[0m invalid decimal literal\n"
     ]
    }
   ],
   "source": [
    "CPU times: user 1min 6s, sys: 1.29 s, total: 1min 7s\n",
    "Wall time: 38.4 s\n",
    "{'svc__C': 50, 'svc__gamma': 0.005}\n",
    "0.7448080768668"
   ]
  },
  {
   "cell_type": "markdown",
   "metadata": {},
   "source": [
    "**prediksi label untuk data testing**"
   ]
  },
  {
   "cell_type": "code",
   "execution_count": 8,
   "metadata": {},
   "outputs": [],
   "source": [
    "model = grid.best_estimator_\n",
    "yfit = model.predict(Xtest)"
   ]
  },
  {
   "cell_type": "code",
   "execution_count": 9,
   "metadata": {},
   "outputs": [
    {
     "ename": "NameError",
     "evalue": "name 'plt' is not defined",
     "output_type": "error",
     "traceback": [
      "\u001b[1;31m---------------------------------------------------------------------------\u001b[0m",
      "\u001b[1;31mNameError\u001b[0m                                 Traceback (most recent call last)",
      "\u001b[1;32me:\\D4 Teknik Informatika\\Akademik\\Semester 5\\Pembelajaran Mesin - TI 3H-20231-1\\2141720022-Pembelajaran-Mesin-2023\\Pertemuan 4\\Praktikum_02.ipynb Cell 10\u001b[0m line \u001b[0;36m3\n\u001b[0;32m      <a href='vscode-notebook-cell:/e%3A/D4%20Teknik%20Informatika/Akademik/Semester%205/Pembelajaran%20Mesin%20-%20TI%203H-20231-1/2141720022-Pembelajaran-Mesin-2023/Pertemuan%204/Praktikum_02.ipynb#X15sZmlsZQ%3D%3D?line=0'>1</a>\u001b[0m \u001b[39m# hasil label pada data testing\u001b[39;00m\n\u001b[1;32m----> <a href='vscode-notebook-cell:/e%3A/D4%20Teknik%20Informatika/Akademik/Semester%205/Pembelajaran%20Mesin%20-%20TI%203H-20231-1/2141720022-Pembelajaran-Mesin-2023/Pertemuan%204/Praktikum_02.ipynb#X15sZmlsZQ%3D%3D?line=2'>3</a>\u001b[0m fig, ax \u001b[39m=\u001b[39m plt\u001b[39m.\u001b[39msubplots(\u001b[39m4\u001b[39m, \u001b[39m6\u001b[39m)\n\u001b[0;32m      <a href='vscode-notebook-cell:/e%3A/D4%20Teknik%20Informatika/Akademik/Semester%205/Pembelajaran%20Mesin%20-%20TI%203H-20231-1/2141720022-Pembelajaran-Mesin-2023/Pertemuan%204/Praktikum_02.ipynb#X15sZmlsZQ%3D%3D?line=3'>4</a>\u001b[0m \u001b[39mfor\u001b[39;00m i, axi \u001b[39min\u001b[39;00m \u001b[39menumerate\u001b[39m(ax\u001b[39m.\u001b[39mflat):\n\u001b[0;32m      <a href='vscode-notebook-cell:/e%3A/D4%20Teknik%20Informatika/Akademik/Semester%205/Pembelajaran%20Mesin%20-%20TI%203H-20231-1/2141720022-Pembelajaran-Mesin-2023/Pertemuan%204/Praktikum_02.ipynb#X15sZmlsZQ%3D%3D?line=4'>5</a>\u001b[0m     axi\u001b[39m.\u001b[39mimshow(Xtest[i]\u001b[39m.\u001b[39mreshape(\u001b[39m62\u001b[39m, \u001b[39m47\u001b[39m), cmap\u001b[39m=\u001b[39m\u001b[39m'\u001b[39m\u001b[39mbone\u001b[39m\u001b[39m'\u001b[39m)\n",
      "\u001b[1;31mNameError\u001b[0m: name 'plt' is not defined"
     ]
    }
   ],
   "source": [
    "# hasil label pada data testing\n",
    "\n",
    "fig, ax = plt.subplots(4, 6)\n",
    "for i, axi in enumerate(ax.flat):\n",
    "    axi.imshow(Xtest[i].reshape(62, 47), cmap='bone')\n",
    "    axi.set(xticks=[], yticks=[])\n",
    "    axi.set_ylabel(faces.target_names[yfit[i]].split()[-1],\n",
    "                   color='black' if yfit[i] == ytest[i] else 'red')\n",
    "fig.suptitle('Predicted Names; Incorrect Labels in Red', size=14)"
   ]
  },
  {
   "cell_type": "markdown",
   "metadata": {},
   "source": [
    "contoh di atas hanya menunjukkan satu data dengan label salah. Secara pengukuran, performa klasifikasi dapat diketahui sebagai berikut"
   ]
  },
  {
   "cell_type": "code",
   "execution_count": 10,
   "metadata": {},
   "outputs": [
    {
     "name": "stdout",
     "output_type": "stream",
     "text": [
      "                   precision    recall  f1-score   support\n",
      "\n",
      "     Ariel Sharon       0.65      0.87      0.74        15\n",
      "     Colin Powell       0.83      0.88      0.86        68\n",
      "  Donald Rumsfeld       0.70      0.84      0.76        31\n",
      "    George W Bush       0.97      0.80      0.88       126\n",
      "Gerhard Schroeder       0.76      0.83      0.79        23\n",
      "      Hugo Chavez       0.93      0.70      0.80        20\n",
      "Junichiro Koizumi       0.86      1.00      0.92        12\n",
      "       Tony Blair       0.82      0.98      0.89        42\n",
      "\n",
      "         accuracy                           0.85       337\n",
      "        macro avg       0.82      0.86      0.83       337\n",
      "     weighted avg       0.86      0.85      0.85       337\n",
      "\n"
     ]
    }
   ],
   "source": [
    "from sklearn.metrics import classification_report\n",
    "print(classification_report(ytest, yfit,\n",
    "                            target_names=faces.target_names))"
   ]
  },
  {
   "cell_type": "code",
   "execution_count": 11,
   "metadata": {},
   "outputs": [
    {
     "ename": "NameError",
     "evalue": "name 'sns' is not defined",
     "output_type": "error",
     "traceback": [
      "\u001b[1;31m---------------------------------------------------------------------------\u001b[0m",
      "\u001b[1;31mNameError\u001b[0m                                 Traceback (most recent call last)",
      "\u001b[1;32me:\\D4 Teknik Informatika\\Akademik\\Semester 5\\Pembelajaran Mesin - TI 3H-20231-1\\2141720022-Pembelajaran-Mesin-2023\\Pertemuan 4\\Praktikum_02.ipynb Cell 13\u001b[0m line \u001b[0;36m5\n\u001b[0;32m      <a href='vscode-notebook-cell:/e%3A/D4%20Teknik%20Informatika/Akademik/Semester%205/Pembelajaran%20Mesin%20-%20TI%203H-20231-1/2141720022-Pembelajaran-Mesin-2023/Pertemuan%204/Praktikum_02.ipynb#X21sZmlsZQ%3D%3D?line=2'>3</a>\u001b[0m \u001b[39mfrom\u001b[39;00m \u001b[39msklearn\u001b[39;00m\u001b[39m.\u001b[39;00m\u001b[39mmetrics\u001b[39;00m \u001b[39mimport\u001b[39;00m confusion_matrix\n\u001b[0;32m      <a href='vscode-notebook-cell:/e%3A/D4%20Teknik%20Informatika/Akademik/Semester%205/Pembelajaran%20Mesin%20-%20TI%203H-20231-1/2141720022-Pembelajaran-Mesin-2023/Pertemuan%204/Praktikum_02.ipynb#X21sZmlsZQ%3D%3D?line=3'>4</a>\u001b[0m mat \u001b[39m=\u001b[39m confusion_matrix(ytest, yfit)\n\u001b[1;32m----> <a href='vscode-notebook-cell:/e%3A/D4%20Teknik%20Informatika/Akademik/Semester%205/Pembelajaran%20Mesin%20-%20TI%203H-20231-1/2141720022-Pembelajaran-Mesin-2023/Pertemuan%204/Praktikum_02.ipynb#X21sZmlsZQ%3D%3D?line=4'>5</a>\u001b[0m sns\u001b[39m.\u001b[39mheatmap(mat\u001b[39m.\u001b[39mT, square\u001b[39m=\u001b[39m\u001b[39mTrue\u001b[39;00m, annot\u001b[39m=\u001b[39m\u001b[39mTrue\u001b[39;00m, fmt\u001b[39m=\u001b[39m\u001b[39m'\u001b[39m\u001b[39md\u001b[39m\u001b[39m'\u001b[39m, cbar\u001b[39m=\u001b[39m\u001b[39mFalse\u001b[39;00m,\n\u001b[0;32m      <a href='vscode-notebook-cell:/e%3A/D4%20Teknik%20Informatika/Akademik/Semester%205/Pembelajaran%20Mesin%20-%20TI%203H-20231-1/2141720022-Pembelajaran-Mesin-2023/Pertemuan%204/Praktikum_02.ipynb#X21sZmlsZQ%3D%3D?line=5'>6</a>\u001b[0m             xticklabels\u001b[39m=\u001b[39mfaces\u001b[39m.\u001b[39mtarget_names,\n\u001b[0;32m      <a href='vscode-notebook-cell:/e%3A/D4%20Teknik%20Informatika/Akademik/Semester%205/Pembelajaran%20Mesin%20-%20TI%203H-20231-1/2141720022-Pembelajaran-Mesin-2023/Pertemuan%204/Praktikum_02.ipynb#X21sZmlsZQ%3D%3D?line=6'>7</a>\u001b[0m             yticklabels\u001b[39m=\u001b[39mfaces\u001b[39m.\u001b[39mtarget_names)\n\u001b[0;32m      <a href='vscode-notebook-cell:/e%3A/D4%20Teknik%20Informatika/Akademik/Semester%205/Pembelajaran%20Mesin%20-%20TI%203H-20231-1/2141720022-Pembelajaran-Mesin-2023/Pertemuan%204/Praktikum_02.ipynb#X21sZmlsZQ%3D%3D?line=7'>8</a>\u001b[0m plt\u001b[39m.\u001b[39mxlabel(\u001b[39m'\u001b[39m\u001b[39mtrue label\u001b[39m\u001b[39m'\u001b[39m)\n\u001b[0;32m      <a href='vscode-notebook-cell:/e%3A/D4%20Teknik%20Informatika/Akademik/Semester%205/Pembelajaran%20Mesin%20-%20TI%203H-20231-1/2141720022-Pembelajaran-Mesin-2023/Pertemuan%204/Praktikum_02.ipynb#X21sZmlsZQ%3D%3D?line=8'>9</a>\u001b[0m plt\u001b[39m.\u001b[39mylabel(\u001b[39m'\u001b[39m\u001b[39mpredicted label\u001b[39m\u001b[39m'\u001b[39m)\n",
      "\u001b[1;31mNameError\u001b[0m: name 'sns' is not defined"
     ]
    }
   ],
   "source": [
    "# bentuk confusion matrix\n",
    "\n",
    "from sklearn.metrics import confusion_matrix\n",
    "mat = confusion_matrix(ytest, yfit)\n",
    "sns.heatmap(mat.T, square=True, annot=True, fmt='d', cbar=False,\n",
    "            xticklabels=faces.target_names,\n",
    "            yticklabels=faces.target_names)\n",
    "plt.xlabel('true label')\n",
    "plt.ylabel('predicted label')"
   ]
  }
 ],
 "metadata": {
  "kernelspec": {
   "display_name": "base",
   "language": "python",
   "name": "python3"
  },
  "language_info": {
   "codemirror_mode": {
    "name": "ipython",
    "version": 3
   },
   "file_extension": ".py",
   "mimetype": "text/x-python",
   "name": "python",
   "nbconvert_exporter": "python",
   "pygments_lexer": "ipython3",
   "version": "3.11.4"
  },
  "orig_nbformat": 4
 },
 "nbformat": 4,
 "nbformat_minor": 2
}
