{
 "cells": [
  {
   "cell_type": "markdown",
   "metadata": {},
   "source": [
    "## **Jobsheet 4**\n",
    "## **Dasar Teori**\n",
    "\n",
    "----\n",
    "\n",
    "### **Pengenalan Klasifikasi**\n",
    "Klasifikasi adalah salah satu metode dalam pembelajaran mesin yang bertujuan untuk mengelompokkan atau memprediksi kelas dari suatu data berdasarkan pola yang ada.<p>\n",
    "Contoh penerapan klasifikasi dalam kehidupan sehari-hari adalah penggunaan sistem deteksi spam pada email untuk membedakan email yang masuk ke dalam kotak masuk dan email yang masuk ke dalam kotak spam.<p>\n",
    "Dalam klasifikasi, data yang digunakan biasanya terdiri dari atribut-atribut yang memiliki nilai dan label kelas yang sudah diketahui.<p>\n",
    "\n",
    "<img src = \"img/dasar_teori.PNG\"><p>\n",
    "\n",
    "Beberapa Contoh Algoritma Klasifikasi :\n",
    "1. Logistic Regression\n",
    "2. K-Nearest Neighbour\n",
    "3. Support Vector Machine (SVM)\n",
    "4. Naive Bayes\n",
    "\n",
    "\n"
   ]
  }
 ],
 "metadata": {
  "kernelspec": {
   "display_name": "base",
   "language": "python",
   "name": "python3"
  },
  "language_info": {
   "name": "python",
   "version": "3.11.4"
  },
  "orig_nbformat": 4
 },
 "nbformat": 4,
 "nbformat_minor": 2
}
