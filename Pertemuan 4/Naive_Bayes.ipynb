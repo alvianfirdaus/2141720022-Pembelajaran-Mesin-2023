{
 "cells": [
  {
   "cell_type": "markdown",
   "metadata": {},
   "source": [
    "## **Jobsheet 4**\n",
    "## **Naive Bayes**\n",
    "\n",
    "----\n",
    "\n",
    "### **Apa itu Naive Bayes?**\n",
    "Sebelum kita mempelajari tentang model naïve bayes, ada baiknya kita memahami apa itu kaidah bayes. Konsep utama dari kaidah bayes adalah mencari nilai probabilitas (peluang) dari sebuah kejadian berdasarkan nilai probabilitas kejadian lain yang diketahui. Secara matematis, kaidah bayes dapat digambarkan dengan menggunakan Persamaan 11.<p>\n",
    "\n",
    "<img src = \"img/naive_01.PNG\"><p>\n",
    "\n",
    "Dimana A dan B adalah sebuah kejadian dan nilai P(A) merupakan peluang kejadian A dan P(B) merupakan peluang kejadian B. P(A|B) adalah peluang kejadian A setelah kita mengetahui kejadian B, begitu juga sebaliknya untuk nilai peluang P(B|A).<p>\n",
    "Sebagai contoh, kita akan merencanakan untuk pergi untuk melakukan kegiatan piknik. Kondisi saat ini didapati cuaca sedang berawan. Kita juga mendapatkan fakta bahwa,<p>\n",
    "- 50% dari hari hujan diawali dengan cuaca berawan\n",
    "- Keadaan berawan sering terjadi pada pagi hari dengan peluang 40%\n",
    "- Kondisi umum saat ini cenderung kering dan jarang terjadi hujan. Hujan hanya terjadi 3 hari sepanjang 30 hari.\n",
    "\n",
    "Kemudian kita ingin mengetahui peluang terjadinya hujan pada siang hari ini sebelum kita memutuskan untuk pergi piknik.\n",
    "Berdasarkan fakta-fakta tersebut, kita dapat memformulasikannya ke dalam bentuk bayes, yaitu,\n",
    "- Menentukan kejadian A dan kejadian B. Pada kasus ini, kita berasumsi bahwa kejadian A adalah hujan, sedangkan kejadian B adalah kondisi berawan. Sehingga didapatkan P(Hujan)=P(A) dan P(Berawan)=P(B).\n",
    "- 50% dari hari hujan diawali cuaca berawan  P(Berawan│Hujan)=P(B│A)=50%=0.5.\n",
    "- Keadaan berawan sering terjadi di pagi hari dengan peluang 40%  P(B)=40%=0.4\n",
    "- Kondisi kering dan jarang terjadi hujan dapat kita modelkan menjadi P(A) dengan peluang 3/30=10%=0.1 P(A)=0.1\n",
    "- Sehingga untuk menghitung peluang terjadinya hujan pada siang hari, kita dapat modelkan menjadi P(A|B)\n",
    "Didapatkan nilai P(A|B) adalah,<p>\n",
    "\n",
    "<img src = \"img/naive_02.PNG\"><p>\n",
    "\n",
    "Dengan demikian, didapatkan peluang terjadinya hujan pada siang hari adalah 12.5%.\n",
    "Lalu apa hubungan contoh tersebut dengan model naïve bayes?<p>\n",
    "Pada model naïve bayes kita dapat menghitung peluang sebuah label pada kelas dalam kasus klasifikasi berdasarkan peluang setiap fitur untuk label tersebut. Sehingga, untuk menghitung peluang label y berdasarkan fitur-fitur x_n pada naïve bayes dilakukan dengan Persamaan 12.<p>\n",
    "\n",
    "<img src = \"img/naive_02.PNG\"><p>\n",
    "\n",
    "Setelah mendapatkan peluang dari label y berdasarkan fitur-fitur x_n, maka proses terakhir dari model naïve bayes adalah membandingkan peluang untuk setiap label yang dimiliki. Label dengan peluang terbesar adalah hasil prediksi dari model naïve bayes.<p>\n",
    "Lalu mengapa naïve bayes dikatakan naif? Hal ini dikarenakan naïve bayes tidak memperhitungkan hubungan atau korelasi antar fitur. Dalam praktiknya, terdapat beberapa jenis model naïve bayes berdasarkan sumber data yang digunakan. Jika data yang digunakan bersifat diskrit, maka model naïve bayes yang paling cocok digunakan adalah multinomial naïve bayes. Jika data kita berupa data kategorikal, maka kita dapat menggunakan model categorical naïve bayes. Sedangkan jika data yang digunakan bersifat kontinu, maka kita dapat menggunakan model gaussian naïve bayes. Akan tetapi perlu dicatat, pada model gaussian naïve bayes, model berasumsi bahwa data pada fitur terdistrubusi secara normal (distribusi gaus)<p>\n",
    "\n",
    "\n",
    "\n"
   ]
  }
 ],
 "metadata": {
  "language_info": {
   "name": "python"
  },
  "orig_nbformat": 4
 },
 "nbformat": 4,
 "nbformat_minor": 2
}
