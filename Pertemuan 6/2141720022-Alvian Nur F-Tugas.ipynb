{
 "cells": [
  {
   "cell_type": "markdown",
   "metadata": {},
   "source": [
    "## **TUGAS PRAKTIKUM**\n",
    "### **Tugas Praktikum: Ensemble Learning**\n",
    "\n",
    "----\n",
    "\n",
    ">### Data Mahasiswa\n",
    "><p>Nama : Alvian Nur Firdaus<p>\n",
    ">Kelas : 3H<p>\n",
    ">Nim : 2141720022<p>\n",
    ">Prodi : D-IV Teknik Inormatika<p>\n",
    ">Jurusan : Teknologi Inormasii<p>\n",
    ">\n",
    "\n",
    "----\n",
    "\n",
    "### **Tugas:**\n",
    "[mushroom.csv (klik)](/Pertemuan%206/data/mushrooms.csv)<p>\n",
    "[diabetes.csv (klik)](/Pertemuan%206/data/diabetes.csv)<p>\n",
    "⬆Download Dataset Terlebih Dahulu ⬆<p>\n",
    "\n",
    "### **Tugas 1**\n",
    "Terdapat dataset mushroom. Berdasarkan dataset yang tersebut, bandingkan peforma antara algoritma Decision Tree dan RandomForest. Gunakan tunning hyperparameter untuk mendapatkan parameter dan akurasi yang terbaik.<p>\n",
    "\n",
    "### **Tugas 2**\n",
    "Terdapat dataset mushroom. Berdasarkan dataset tersebut, bandingkan peforma antara algoritma Decision Tree dan AdaBoost. Gunakan tunning hyperparameter untuk mendapatkan parameter dan akurasi yang terbaik.<p>\n",
    "\n",
    "### **Tugas 3**\n",
    "Dengan menggunakan dataset diabetes, buatlah ensemble voting dengan algoritma\n",
    "- Logistic Regression\n",
    "- SVM kernel polynomial\n",
    "- Decission Tree\n",
    "Anda boleh melakukan eksplorasi dengan melakukan tunning hyperparameter\n",
    "\n",
    "-----\n",
    "\n",
    "### **Jawaban**"
   ]
  },
  {
   "cell_type": "markdown",
   "metadata": {},
   "source": [
    "### **Jawaban Soal 1**"
   ]
  },
  {
   "cell_type": "markdown",
   "metadata": {},
   "source": [
    "lakukan import library dan load data"
   ]
  },
  {
   "cell_type": "code",
   "execution_count": null,
   "metadata": {},
   "outputs": [],
   "source": []
  },
  {
   "cell_type": "markdown",
   "metadata": {},
   "source": [
    "### **Jawaban Soal 2**"
   ]
  },
  {
   "cell_type": "code",
   "execution_count": null,
   "metadata": {},
   "outputs": [],
   "source": []
  },
  {
   "cell_type": "markdown",
   "metadata": {},
   "source": [
    "### **Jawaban Soal 3**"
   ]
  },
  {
   "cell_type": "code",
   "execution_count": null,
   "metadata": {},
   "outputs": [],
   "source": []
  }
 ],
 "metadata": {
  "kernelspec": {
   "display_name": "base",
   "language": "python",
   "name": "python3"
  },
  "language_info": {
   "codemirror_mode": {
    "name": "ipython",
    "version": 3
   },
   "file_extension": ".py",
   "mimetype": "text/x-python",
   "name": "python",
   "nbconvert_exporter": "python",
   "pygments_lexer": "ipython3",
   "version": "3.11.4"
  },
  "orig_nbformat": 4
 },
 "nbformat": 4,
 "nbformat_minor": 2
}
