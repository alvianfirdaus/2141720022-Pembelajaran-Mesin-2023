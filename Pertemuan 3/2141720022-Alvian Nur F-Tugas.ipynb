{
 "cells": [
  {
   "cell_type": "markdown",
   "metadata": {},
   "source": [
    "## **TUGAS PRAKTIKUM**\n",
    "### **Tugas Praktikum: Multiple Linear Regression dan Support Vector Regression (SVR) dengan Dataset Medical Cost Personal Datasets**\n",
    "\n",
    "----\n",
    "\n",
    ">### Data Mahasiswa\n",
    "><p>Nama : Alvian Nur Firdaus<p>\n",
    ">Kelas : 3H<p>\n",
    ">Nim : 2141720022<p>\n",
    ">Prodi : D-IV Teknik Inormatika<p>\n",
    ">Jurusan : Teknologi Inormasi<p>\n",
    ">\n",
    "\n",
    "----\n",
    "\n",
    "### **Instruksi Umum:**\n",
    "1. Anda akan menggunakan dataset \"Medical Cost Personal Datasets\". Pastikan Anda telah mengunduh dataset ini.\n",
    "2. Gunakan bahasa pemrograman Python dan library yang sesuai seperti NumPy, Pandas, Matplotlib dan Scikit-Learn untuk melakukan analisis regresi dan SVR."
   ]
  },
  {
   "cell_type": "markdown",
   "metadata": {},
   "source": [
    "### **Tugas 1: Multiple Linear Regression**\n",
    "1. Identifikasi variabel-variabel yang akan digunakan sebagai variabel bebas (fitur) dan variabel target (biaya medis personal).\n",
    "2. Bagi dataset menjadi data latih (train) dan data uji (test) dengan proporsi yang sesuai.\n",
    "3. Lakukan feature scaling jika diperlukan.\n",
    "4. Buat model multiple linear regression menggunakan Scikit-Learn.\n",
    "5. Latih model pada data latih dan lakukan prediksi pada data uji.\n",
    "6. Evaluasi model dengan menghitung metrik seperti R-squared, MSE, dan MAE. Tampilkan hasil evaluasi.\n",
    "\n",
    "### **Catatan Tambahan:**\n",
    "- Pastikan untuk memberikan penjelasan singkat tentang dataset yang digunakan, termasuk deskripsi variabel-variabel yang relevan.\n",
    "- Tampilkan visualisasi data yang relevan seperti scatter plot atau grafik lainnya jika diperlukan untuk pemahaman yang lebih baik.\n",
    "- Analisis hasil yang Anda dapatkan dalam tugas praktikum Anda.\n",
    "\n",
    "### **Pengumpulan Tugas**\n",
    "Tugas praktikum ini dikumpulkan dalam bentuk laporan berformat dokumen (.doc) dan kode program Python yang digunakan (dalam format .py atau .ipynb). Tugas dikumpulkan ke dosen pengampu sesuai dengan jadwal yang telah ditentukan.<p>\n",
    "Selamat mengerjakan tugas praktikum! Jika Anda mengalami kesulitan, jangan ragu untuk berkonsultasi dengan dosen pengampu\n",
    "\n",
    "----\n"
   ]
  },
  {
   "cell_type": "markdown",
   "metadata": {},
   "source": [
    "### **JAWABAN**"
   ]
  },
  {
   "cell_type": "markdown",
   "metadata": {},
   "source": [
    "-- SSEGERA --"
   ]
  }
 ],
 "metadata": {
  "kernelspec": {
   "display_name": "base",
   "language": "python",
   "name": "python3"
  },
  "language_info": {
   "name": "python",
   "version": "3.11.4"
  },
  "orig_nbformat": 4
 },
 "nbformat": 4,
 "nbformat_minor": 2
}
