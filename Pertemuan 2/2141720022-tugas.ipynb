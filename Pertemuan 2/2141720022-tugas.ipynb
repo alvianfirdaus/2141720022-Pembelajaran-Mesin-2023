{
 "cells": [
  {
   "cell_type": "markdown",
   "metadata": {},
   "source": [
    "## **TUGAS PRAKTIKUM**\n",
    "### **Wisconsin Breast Cancer**\n",
    "\n",
    ">### Data Mahasiswa\n",
    "><img src = \"img/alvian.jpg\" width =\"100\">\n",
    "><p>Nama : Alvian Nur Firdaus<p>\n",
    ">Kelas : 3H<p>\n",
    ">Nim : 2141720022<p>\n",
    ">Prodi : D-IV Teknik Inormatika<p>\n",
    ">Jurusan : Teknologi Inormasi<p>\n",
    "\n"
   ]
  },
  {
   "cell_type": "markdown",
   "metadata": {},
   "source": [
    "### **Deskripsi Tugas**\n",
    "Pada tugas pratikum ini Anda akan menggunakan data \"Wisconsin Breast Cancer\". Data tersebut terdiri dari 569 data yang digunakan untuk mendiagnonis jenis kanker Malignant (M) dan Benign (B). Tugas Anda adalah,\n",
    "1. Pisahkan antara variabel yang dapat digunakan dan variabel yang tidak dapat digunakan.\n",
    "2. Lakukan proses encoding pada kolom \"diagnosis\".\n",
    "3. Lakukan proses standarisasi pada semua kolom yang memiliki nilai numerik.\n",
    "4. Lakukan proses stratified split data untuk membuat data latih dan data uji dengan rasio 80:20."
   ]
  }
 ],
 "metadata": {
  "kernelspec": {
   "display_name": "base",
   "language": "python",
   "name": "python3"
  },
  "language_info": {
   "name": "python",
   "version": "3.11.4"
  },
  "orig_nbformat": 4
 },
 "nbformat": 4,
 "nbformat_minor": 2
}
